{
 "cells": [
  {
   "cell_type": "code",
   "execution_count": 1,
   "metadata": {},
   "outputs": [],
   "source": [
    "import pandas as pd\n",
    "import numpy as np\n",
    "\n",
    "import os"
   ]
  },
  {
   "cell_type": "code",
   "execution_count": 2,
   "metadata": {},
   "outputs": [],
   "source": [
    "def hamming(arr1, arr2):\n",
    "    return np.sum(arr1 != arr2)/arr1.shape[0]"
   ]
  },
  {
   "cell_type": "code",
   "execution_count": 3,
   "metadata": {},
   "outputs": [],
   "source": [
    "def avg_hamming(curr, other):\n",
    "    return np.mean((curr != other).sum(axis = 0)/other.shape[1])"
   ]
  },
  {
   "cell_type": "code",
   "execution_count": 4,
   "metadata": {},
   "outputs": [],
   "source": [
    "def greedy(s):\n",
    "    np.random.seed(1)\n",
    "\n",
    "    idx = np.random.choice(np.arange(s.shape[0]))\n",
    "\n",
    "    chosen = s[[idx]]\n",
    "\n",
    "    s = np.delete(s, idx, 0)\n",
    "\n",
    "    for i in range(s.shape[0]):\n",
    "        hammings = np.apply_along_axis(lambda x: avg_hamming(x, chosen), 1, s)\n",
    "\n",
    "        chosen = np.vstack([chosen, s[hammings.argmax()]])\n",
    "\n",
    "        s = np.delete(s, hammings.argmax(), 0)\n",
    "\n",
    "    return chosen"
   ]
  },
  {
   "cell_type": "code",
   "execution_count": 5,
   "metadata": {},
   "outputs": [],
   "source": [
    "for instance in os.listdir('../../mps_files'):\n",
    "    name = instance.split('.')[0]\n",
    "    output_path = f'hamming_results/{name}.txt'\n",
    "\n",
    "    if os.path.exists(output_path):\n",
    "        os.remove(output_path)\n",
    "    \n",
    "    with open(output_path, 'w') as f:\n",
    "        f.write('sol_number,avg_hamming,weights,Method\\n')\n",
    "        f.close()\n",
    "\n",
    "    for results in os.listdir('unique_results'):\n",
    "        if name in results:\n",
    "            if 'random' in results:\n",
    "                weights_type = 'random'\n",
    "            else:\n",
    "                weights_type = 'uniform'\n",
    "\n",
    "            sols = np.array(pd.read_csv(f'unique_results/{results}', header = None))[:100]\n",
    "\n",
    "            shuffled = sols.copy()\n",
    "            np.random.shuffle(shuffled)\n",
    "\n",
    "            greedy_sols = greedy(sols)\n",
    "\n",
    "            solution_sets = [sols, shuffled, greedy_sols]\n",
    "            methods = ['Solution Pool', 'Random Shuffle', 'Greedy']\n",
    "\n",
    "            for method, solutions in zip(methods, solution_sets):\n",
    "                hamming_averages = []\n",
    "                hamming_distances = []\n",
    "                for i in range(1, 100):\n",
    "                    for j in range(i):\n",
    "                        hamming_distances.append(hamming(solutions[i], solutions[j]))\n",
    "                    hamming_averages.append(f'{i},{np.array(hamming_distances).mean()},{weights_type},{method}')\n",
    "\n",
    "                with open(output_path, 'a') as f:\n",
    "                    f.write('\\n'.join(hamming_averages) + '\\n')\n",
    "                    f.close()"
   ]
  }
 ],
 "metadata": {
  "kernelspec": {
   "display_name": "anaconda3",
   "language": "python",
   "name": "python3"
  },
  "language_info": {
   "codemirror_mode": {
    "name": "ipython",
    "version": 3
   },
   "file_extension": ".py",
   "mimetype": "text/x-python",
   "name": "python",
   "nbconvert_exporter": "python",
   "pygments_lexer": "ipython3",
   "version": "3.11.6"
  }
 },
 "nbformat": 4,
 "nbformat_minor": 2
}
